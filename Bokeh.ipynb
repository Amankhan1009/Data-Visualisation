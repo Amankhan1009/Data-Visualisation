{
 "cells": [
  {
   "cell_type": "code",
   "execution_count": 1,
   "id": "064b9a50-7322-4087-ac3f-5684f50147a8",
   "metadata": {},
   "outputs": [],
   "source": [
    "import numpy as np\n",
    "import pandas as pd\n",
    "import matplotlib.pyplot as plt\n",
    "import seaborn as sns\n",
    "import warnings\n",
    "warnings.filterwarnings('ignore')"
   ]
  },
  {
   "cell_type": "code",
   "execution_count": 2,
   "id": "e54ebefd-6e26-4fb6-8ae3-4f3bbd3a4236",
   "metadata": {},
   "outputs": [],
   "source": [
    "import bokeh.io\n",
    "import bokeh.plotting\n",
    "bokeh.io.output_notebook\n",
    "from bokeh.plotting import figure, show\n",
    "from bokeh.io import output_notebook"
   ]
  },
  {
   "cell_type": "code",
   "execution_count": 3,
   "id": "93b0f08f-4ffc-45ba-bf3d-07d8d228384f",
   "metadata": {},
   "outputs": [],
   "source": [
    "# Qn1:Create a Bokeh plot displaying a sine wave. Set x-values from 0 to 10 and y-values as the sine of x."
   ]
  },
  {
   "cell_type": "code",
   "execution_count": 14,
   "id": "f1310156-d02b-494c-a614-12f5ddf189b5",
   "metadata": {},
   "outputs": [
    {
     "data": {
      "text/html": [
       "\n",
       "  <div id=\"73aec791-7922-42d6-a368-2d70f5ec028b\" data-root-id=\"p2125\" style=\"display: contents;\"></div>\n"
      ]
     },
     "metadata": {},
     "output_type": "display_data"
    },
    {
     "data": {
      "application/javascript": [
       "(function(root) {\n",
       "  function embed_document(root) {\n",
       "  const docs_json = {\"d2d7dde8-0059-4750-bc43-dd1921469fb9\":{\"version\":\"3.0.3\",\"title\":\"Bokeh Application\",\"defs\":[],\"roots\":[{\"type\":\"object\",\"name\":\"Figure\",\"id\":\"p2125\",\"attributes\":{\"x_range\":{\"type\":\"object\",\"name\":\"DataRange1d\",\"id\":\"p2126\"},\"y_range\":{\"type\":\"object\",\"name\":\"DataRange1d\",\"id\":\"p2127\"},\"x_scale\":{\"type\":\"object\",\"name\":\"LinearScale\",\"id\":\"p2139\"},\"y_scale\":{\"type\":\"object\",\"name\":\"LinearScale\",\"id\":\"p2141\"},\"title\":{\"type\":\"object\",\"name\":\"Title\",\"id\":\"p2128\",\"attributes\":{\"text\":\"Sine Wave\"}},\"renderers\":[{\"type\":\"object\",\"name\":\"GlyphRenderer\",\"id\":\"p2178\",\"attributes\":{\"data_source\":{\"type\":\"object\",\"name\":\"ColumnDataSource\",\"id\":\"p2172\",\"attributes\":{\"selected\":{\"type\":\"object\",\"name\":\"Selection\",\"id\":\"p2173\",\"attributes\":{\"indices\":[],\"line_indices\":[]}},\"selection_policy\":{\"type\":\"object\",\"name\":\"UnionRenderers\",\"id\":\"p2174\"},\"data\":{\"type\":\"map\",\"entries\":[[\"x\",{\"type\":\"ndarray\",\"array\":{\"type\":\"bytes\",\"data\":\"AAAAAAAAAAC6V5cDY4WUP7pXlwNjhaQ/lwNjhRTIrj+6V5cDY4W0P6gtfcS7prk/lwNjhRTIvj/DbCSjtvTBP7pXlwNjhcQ/sUIKZA8Wxz+oLX3Eu6bJP6AY8CRoN8w/lwNjhRTIzj9H9+pyYKzQP8NsJKO29NE/PuJd0ww90z+6V5cDY4XUPzbN0DO5zdU/sUIKZA8W1z8tuEOUZV7YP6gtfcS7ptk/JKO29BHv2j+gGPAkaDfcPxuOKVW+f90/lwNjhRTI3j+JPM5aNQjgP0f36nJgrOA/BbIHi4tQ4T/DbCSjtvThP4EnQbvhmOI/PuJd0ww94z/8nHrrN+HjP7pXlwNjheQ/eBK0G44p5T82zdAzuc3lP/OH7UvkceY/sUIKZA8W5z9v/SZ8OrrnPy24Q5RlXug/63JgrJAC6T+oLX3Eu6bpP2bomdzmSuo/JKO29BHv6j/iXdMMPZPrP6AY8CRoN+w/XtMMPZPb7D8bjilVvn/tP9lIRm3pI+4/lwNjhRTI7j9Vvn+dP2zvP4k8zlo1CPA/6Jnc5kpa8D9H9+pyYKzwP6ZU+f51/vA/BbIHi4tQ8T9kDxYXoaLxP8NsJKO29PE/IsoyL8xG8j+BJ0G74ZjyP9+ET0f36vI/PuJd0ww98z+dP2xfIo/zP/yceus34fM/W/qId00z9D+6V5cDY4X0Pxm1pY941/Q/eBK0G44p9T/Xb8Kno3v1PzbN0DO5zfU/lSrfv84f9j/zh+1L5HH2P1Ll+9f5w/Y/sUIKZA8W9z8QoBjwJGj3P2/9Jnw6uvc/zlo1CFAM+D8tuEOUZV74P4wVUiB7sPg/63JgrJAC+T9K0G44plT5P6gtfcS7pvk/B4uLUNH4+T9m6Jnc5kr6P8VFqGj8nPo/JKO29BHv+j+DAMWAJ0H7P+Jd0ww9k/s/QbvhmFLl+z+gGPAkaDf8P/91/rB9ifw/XtMMPZPb/D+8MBvJqC39PxuOKVW+f/0/eus34dPR/T/ZSEZt6SP+PzimVPn+df4/lwNjhRTI/j/2YHERKhr/P1W+f50/bP8/tBuOKVW+/z+JPM5aNQgAQDlr1SBAMQBA6Jnc5kpaAECYyOOsVYMAQEf36nJgrABA9yXyOGvVAECmVPn+df4AQFWDAMWAJwFABbIHi4tQAUC04A5RlnkBQGQPFhehogFAEz4d3avLAUDDbCSjtvQBQHKbK2nBHQJAIsoyL8xGAkDR+Dn11m8CQIEnQbvhmAJAMFZIgezBAkDfhE9H9+oCQI+zVg0CFANAPuJd0ww9A0DuEGWZF2YDQJ0/bF8ijwNATW5zJS24A0D8nHrrN+EDQKzLgbFCCgRAW/qId00zBEALKZA9WFwEQLpXlwNjhQRAaYaeyW2uBEAZtaWPeNcEQMjjrFWDAAVAeBK0G44pBUAnQbvhmFIFQNdvwqejewVAhp7Jba6kBUA2zdAzuc0FQOX71/nD9gVAlSrfv84fBkBEWeaF2UgGQPOH7UvkcQZAo7b0Ee+aBkBS5fvX+cMGQAIUA54E7QZAsUIKZA8WB0BhcREqGj8HQBCgGPAkaAdAwM4fti+RB0Bv/SZ8OroHQB8sLkJF4wdAzlo1CFAMCEB9iTzOWjUIQC24Q5RlXghA3OZKWnCHCECMFVIge7AIQDtEWeaF2QhA63JgrJACCUCaoWdymysJQErQbjimVAlA+f51/rB9CUCoLX3Eu6YJQFhchIrGzwlAB4uLUNH4CUC3uZIW3CEKQGbomdzmSgpAFhehovFzCkDFRaho/JwKQHV0ry4HxgpAJKO29BHvCkDU0b26HBgLQIMAxYAnQQtAMi/MRjJqC0DiXdMMPZMLQJGM2tJHvAtAQbvhmFLlC0Dw6eheXQ4MQKAY8CRoNwxAT0f36nJgDED/df6wfYkMQK6kBXeIsgxAXtMMPZPbDEANAhQDngQNQLwwG8moLQ1AbF8ij7NWDUAbjilVvn8NQMu8MBvJqA1Aeus34dPRDUAqGj+n3voNQNlIRm3pIw5AiXdNM/RMDkA4plT5/nUOQOjUW78Jnw5AlwNjhRTIDkBGMmpLH/EOQPZgcREqGg9ApY941zRDD0BVvn+dP2wPQATthmNKlQ9AtBuOKVW+D0BjSpXvX+cPQIk8zlo1CBBA4dPRvbocEEA5a9UgQDEQQJAC2YPFRRBA6Jnc5kpaEEBAMeBJ0G4QQJjI46xVgxBA71/nD9uXEEBH9+pyYKwQQJ+O7tXlwBBA9yXyOGvVEEBOvfWb8OkQQKZU+f51/hBA/uv8YfsSEUBVgwDFgCcRQK0aBCgGPBFABbIHi4tQEUBdSQvuEGURQLTgDlGWeRFADHgStBuOEUBkDxYXoaIRQLymGXomtxFAEz4d3avLEUBr1SBAMeARQMNsJKO29BFAGgQoBjwJEkBymytpwR0SQMoyL8xGMhJAIsoyL8xGEkB5YTaSUVsSQNH4OfXWbxJAKZA9WFyEEkCBJ0G74ZgSQNi+RB5nrRJAMFZIgezBEkCI7UvkcdYSQN+ET0f36hJANxxTqnz/EkCPs1YNAhQTQOdKWnCHKBNAPuJd0ww9E0CWeWE2klETQO4QZZkXZhNARqho/Jx6E0CdP2xfIo8TQPXWb8KnoxNATW5zJS24E0CkBXeIsswTQPyceus34RNAVDR+Tr31E0Csy4GxQgoUQANjhRTIHhRAW/qId00zFECzkYza0kcUQAspkD1YXBRAYsCToN1wFEC6V5cDY4UUQBLvmmbomRRAaYaeyW2uFEDBHaIs88IUQBm1pY941xRAcUyp8v3rFEDI46xVgwAVQCB7sLgIFRVAeBK0G44pFUDQqbd+Ez4VQCdBu+GYUhVAf9i+RB5nFUDXb8Kno3sVQC4HxgopkBVAhp7Jba6kFUDeNc3QM7kVQDbN0DO5zRVAjWTUlj7iFUDl+9f5w/YVQD2T21xJCxZAlSrfv84fFkDsweIiVDQWQERZ5oXZSBZAnPDp6F5dFkDzh+1L5HEWQEsf8a5phhZAo7b0Ee+aFkD7Tfh0dK8WQFLl+9f5wxZAqnz/On/YFkACFAOeBO0WQFqrBgGKARdAsUIKZA8WF0AJ2g3HlCoXQGFxESoaPxdAuAgVjZ9TF0AQoBjwJGgXQGg3HFOqfBdAwM4fti+RF0AXZiMZtaUXQG/9Jnw6uhdAx5Qq37/OF0AfLC5CReMXQHbDMaXK9xdAzlo1CFAMGEAm8jhr1SAYQH2JPM5aNRhA1SBAMeBJGEAtuEOUZV4YQIVPR/fqchhA3OZKWnCHGEA0fk699ZsYQIwVUiB7sBhA5KxVgwDFGEA7RFnmhdkYQJPbXEkL7hhA63JgrJACGUBCCmQPFhcZQJqhZ3KbKxlA8jhr1SBAGUBK0G44plQZQKFncpsraRlA+f51/rB9GUBRlnlhNpIZQKgtfcS7phlAAMWAJ0G7GUBYXISKxs8ZQLDzh+1L5BlAB4uLUNH4GUBfIo+zVg0aQLe5khbcIRpAD1GWeWE2GkBm6Jnc5koaQL5/nT9sXxpAFhehovFzGkBtrqQFd4gaQMVFqGj8nBpAHd2ry4GxGkB1dK8uB8YaQMwLs5GM2hpAJKO29BHvGkB8OrpXlwMbQNTRvbocGBtAK2nBHaIsG0CDAMWAJ0EbQNuXyOOsVRtAMi/MRjJqG0CKxs+pt34bQOJd0ww9kxtAOvXWb8KnG0CRjNrSR7wbQOkj3jXN0BtAQbvhmFLlG0CZUuX71/kbQPDp6F5dDhxASIHsweIiHECgGPAkaDccQPev84ftSxxAT0f36nJgHECn3vpN+HQcQP91/rB9iRxAVg0CFAOeHECupAV3iLIcQAY8CdoNxxxAXtMMPZPbHEC1ahCgGPAcQA0CFAOeBB1AZZkXZiMZHUC8MBvJqC0dQBTIHiwuQh1AbF8ij7NWHUDE9iXyOGsdQBuOKVW+fx1AcyUtuEOUHUDLvDAbyagdQCNUNH5OvR1Aeus34dPRHUDSgjtEWeYdQCoaP6fe+h1AgbFCCmQPHkDZSEZt6SMeQDHgSdBuOB5AiXdNM/RMHkDgDlGWeWEeQDimVPn+dR5AkD1YXISKHkDo1Fu/CZ8eQD9sXyKPsx5AlwNjhRTIHkDvmmbomdweQEYyaksf8R5AnsltrqQFH0D2YHERKhofQE74dHSvLh9ApY941zRDH0D9Jnw6ulcfQFW+f50/bB9ArVWDAMWAH0AE7YZjSpUfQFyEisbPqR9AtBuOKVW+H0ALs5GM2tIfQGNKle9f5x9Au+GYUuX7H0CJPM5aNQggQDUIUAx4EiBA4dPRvbocIECNn1Nv/SYgQDlr1SBAMSBA5TZX0oI7IECQAtmDxUUgQDzOWjUIUCBA6Jnc5kpaIECUZV6YjWQgQEAx4EnQbiBA7Pxh+xJ5IECYyOOsVYMgQESUZV6YjSBA71/nD9uXIECbK2nBHaIgQEf36nJgrCBA88JsJKO2IECfju7V5cAgQEtacIcoyyBA9yXyOGvVIECi8XPqrd8gQE699Zvw6SBA+oh3TTP0IECmVPn+df4gQFIge7C4CCFA/uv8YfsSIUCqt34TPh0hQFWDAMWAJyFAAU+CdsMxIUCtGgQoBjwhQFnmhdlIRiFABbIHi4tQIUCxfYk8zlohQF1JC+4QZSFACRWNn1NvIUC04A5RlnkhQGCskALZgyFADHgStBuOIUC4Q5RlXpghQGQPFhehoiFAENuXyOOsIUC8phl6JrchQGdymytpwSFAEz4d3avLIUC/CZ+O7tUhQGvVIEAx4CFAF6Gi8XPqIUDDbCSjtvQhQG84plT5/iFAGgQoBjwJIkDGz6m3fhMiQHKbK2nBHSJAHmetGgQoIkDKMi/MRjIiQHb+sH2JPCJAIsoyL8xGIkDOlbTgDlEiQHlhNpJRWyJAJS24Q5RlIkDR+Dn11m8iQH3Eu6YZeiJAKZA9WFyEIkDVW78Jn44iQIEnQbvhmCJALPPCbCSjIkDYvkQeZ60iQISKxs+ptyJAMFZIgezBIkDcIcoyL8wiQIjtS+Rx1iJANLnNlbTgIkDfhE9H9+oiQItQ0fg59SJANxxTqnz/IkDj59RbvwkjQI+zVg0CFCNAO3/YvkQeI0DnSlpwhygjQJMW3CHKMiNAPuJd0ww9I0Dqrd+ET0cjQJZ5YTaSUSNAQkXj59RbI0DuEGWZF2YjQJrc5kpacCNARqho/Jx6I0Dxc+qt34QjQJ0/bF8ijyNASQvuEGWZI0D11m/Cp6MjQKGi8XPqrSNATW5zJS24I0D5OfXWb8IjQKQFd4iyzCNAUNH4OfXWI0D8nHrrN+EjQKho/Jx66yNAVDR+Tr31I0AAAAAAAAAkQA==\"},\"shape\":[500],\"dtype\":\"float64\",\"order\":\"little\"}],[\"y\",{\"type\":\"ndarray\",\"array\":{\"type\":\"bytes\",\"data\":\"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\"},\"shape\":[500],\"dtype\":\"float64\",\"order\":\"little\"}]]}}},\"view\":{\"type\":\"object\",\"name\":\"CDSView\",\"id\":\"p2179\",\"attributes\":{\"filter\":{\"type\":\"object\",\"name\":\"AllIndices\",\"id\":\"p2180\"}}},\"glyph\":{\"type\":\"object\",\"name\":\"Line\",\"id\":\"p2175\",\"attributes\":{\"x\":{\"type\":\"field\",\"field\":\"x\"},\"y\":{\"type\":\"field\",\"field\":\"y\"},\"line_color\":\"#1f77b4\",\"line_width\":2}},\"nonselection_glyph\":{\"type\":\"object\",\"name\":\"Line\",\"id\":\"p2176\",\"attributes\":{\"x\":{\"type\":\"field\",\"field\":\"x\"},\"y\":{\"type\":\"field\",\"field\":\"y\"},\"line_color\":\"#1f77b4\",\"line_alpha\":0.1,\"line_width\":2}},\"muted_glyph\":{\"type\":\"object\",\"name\":\"Line\",\"id\":\"p2177\",\"attributes\":{\"x\":{\"type\":\"field\",\"field\":\"x\"},\"y\":{\"type\":\"field\",\"field\":\"y\"},\"line_color\":\"#1f77b4\",\"line_alpha\":0.2,\"line_width\":2}}}}],\"toolbar\":{\"type\":\"object\",\"name\":\"Toolbar\",\"id\":\"p2131\",\"attributes\":{\"tools\":[{\"type\":\"object\",\"name\":\"PanTool\",\"id\":\"p2157\"},{\"type\":\"object\",\"name\":\"WheelZoomTool\",\"id\":\"p2158\"},{\"type\":\"object\",\"name\":\"BoxZoomTool\",\"id\":\"p2159\",\"attributes\":{\"overlay\":{\"type\":\"object\",\"name\":\"BoxAnnotation\",\"id\":\"p2160\",\"attributes\":{\"syncable\":false,\"level\":\"overlay\",\"visible\":false,\"left_units\":\"canvas\",\"right_units\":\"canvas\",\"bottom_units\":\"canvas\",\"top_units\":\"canvas\",\"line_color\":\"black\",\"line_alpha\":1.0,\"line_width\":2,\"line_dash\":[4,4],\"fill_color\":\"lightgrey\",\"fill_alpha\":0.5}}}},{\"type\":\"object\",\"name\":\"SaveTool\",\"id\":\"p2161\"},{\"type\":\"object\",\"name\":\"ResetTool\",\"id\":\"p2162\"},{\"type\":\"object\",\"name\":\"HelpTool\",\"id\":\"p2163\"}]}},\"left\":[{\"type\":\"object\",\"name\":\"LinearAxis\",\"id\":\"p2150\",\"attributes\":{\"ticker\":{\"type\":\"object\",\"name\":\"BasicTicker\",\"id\":\"p2151\",\"attributes\":{\"mantissas\":[1,2,5]}},\"formatter\":{\"type\":\"object\",\"name\":\"BasicTickFormatter\",\"id\":\"p2152\"},\"axis_label\":\"y\",\"major_label_policy\":{\"type\":\"object\",\"name\":\"AllLabels\",\"id\":\"p2153\"}}}],\"below\":[{\"type\":\"object\",\"name\":\"LinearAxis\",\"id\":\"p2143\",\"attributes\":{\"ticker\":{\"type\":\"object\",\"name\":\"BasicTicker\",\"id\":\"p2144\",\"attributes\":{\"mantissas\":[1,2,5]}},\"formatter\":{\"type\":\"object\",\"name\":\"BasicTickFormatter\",\"id\":\"p2145\"},\"axis_label\":\"x\",\"major_label_policy\":{\"type\":\"object\",\"name\":\"AllLabels\",\"id\":\"p2146\"}}}],\"center\":[{\"type\":\"object\",\"name\":\"Grid\",\"id\":\"p2149\",\"attributes\":{\"axis\":{\"id\":\"p2143\"}}},{\"type\":\"object\",\"name\":\"Grid\",\"id\":\"p2156\",\"attributes\":{\"dimension\":1,\"axis\":{\"id\":\"p2150\"}}},{\"type\":\"object\",\"name\":\"Legend\",\"id\":\"p2194\",\"attributes\":{\"items\":[{\"type\":\"object\",\"name\":\"LegendItem\",\"id\":\"p2195\",\"attributes\":{\"label\":{\"type\":\"value\",\"value\":\"y=sin(x)\"},\"renderers\":[{\"id\":\"p2178\"}]}}]}}]}}]}};\n",
       "  const render_items = [{\"docid\":\"d2d7dde8-0059-4750-bc43-dd1921469fb9\",\"roots\":{\"p2125\":\"73aec791-7922-42d6-a368-2d70f5ec028b\"},\"root_ids\":[\"p2125\"]}];\n",
       "  root.Bokeh.embed.embed_items_notebook(docs_json, render_items);\n",
       "  }\n",
       "  if (root.Bokeh !== undefined) {\n",
       "    embed_document(root);\n",
       "  } else {\n",
       "    let attempts = 0;\n",
       "    const timer = setInterval(function(root) {\n",
       "      if (root.Bokeh !== undefined) {\n",
       "        clearInterval(timer);\n",
       "        embed_document(root);\n",
       "      } else {\n",
       "        attempts++;\n",
       "        if (attempts > 100) {\n",
       "          clearInterval(timer);\n",
       "          console.log(\"Bokeh: ERROR: Unable to run BokehJS code because BokehJS library is missing\");\n",
       "        }\n",
       "      }\n",
       "    }, 10, root)\n",
       "  }\n",
       "})(window);"
      ],
      "application/vnd.bokehjs_exec.v0+json": ""
     },
     "metadata": {
      "application/vnd.bokehjs_exec.v0+json": {
       "id": "p2125"
      }
     },
     "output_type": "display_data"
    }
   ],
   "source": [
    "x = np.linspace(0, 10, 500)\n",
    "y = np.sin(x)\n",
    "\n",
    "p = figure(title='Sine Wave', x_axis_label='x', y_axis_label='y')\n",
    "\n",
    "p.line(x,y, legend_label='y=sin(x)', line_width=2)\n",
    "show(p)"
   ]
  },
  {
   "cell_type": "code",
   "execution_count": 5,
   "id": "b3f0b996-6b60-41a2-a9c7-196e0454e39b",
   "metadata": {},
   "outputs": [],
   "source": [
    "# Qn2: Create a Bokeh scatter plot using randomly generated x and y values. Use different sizes and colors for the\n",
    "# markers based on the 'sizes' and 'colors' columns."
   ]
  },
  {
   "cell_type": "code",
   "execution_count": 15,
   "id": "aa33fcac-d344-4125-a590-1467fda8f3e3",
   "metadata": {},
   "outputs": [
    {
     "data": {
      "text/html": [
       "\n",
       "  <div id=\"dafe7776-d86a-48f1-a863-b6c049651832\" data-root-id=\"p2293\" style=\"display: contents;\"></div>\n"
      ]
     },
     "metadata": {},
     "output_type": "display_data"
    },
    {
     "data": {
      "application/javascript": [
       "(function(root) {\n",
       "  function embed_document(root) {\n",
       "  const docs_json = {\"486319f4-f397-4701-9659-25c5ae61777c\":{\"version\":\"3.0.3\",\"title\":\"Bokeh Application\",\"defs\":[],\"roots\":[{\"type\":\"object\",\"name\":\"Figure\",\"id\":\"p2293\",\"attributes\":{\"x_range\":{\"type\":\"object\",\"name\":\"DataRange1d\",\"id\":\"p2294\"},\"y_range\":{\"type\":\"object\",\"name\":\"DataRange1d\",\"id\":\"p2295\"},\"x_scale\":{\"type\":\"object\",\"name\":\"LinearScale\",\"id\":\"p2307\"},\"y_scale\":{\"type\":\"object\",\"name\":\"LinearScale\",\"id\":\"p2309\"},\"title\":{\"type\":\"object\",\"name\":\"Title\",\"id\":\"p2296\",\"attributes\":{\"text\":\"Random Scatter Plot\"}},\"renderers\":[{\"type\":\"object\",\"name\":\"GlyphRenderer\",\"id\":\"p2346\",\"attributes\":{\"data_source\":{\"type\":\"object\",\"name\":\"ColumnDataSource\",\"id\":\"p2340\",\"attributes\":{\"selected\":{\"type\":\"object\",\"name\":\"Selection\",\"id\":\"p2341\",\"attributes\":{\"indices\":[],\"line_indices\":[]}},\"selection_policy\":{\"type\":\"object\",\"name\":\"UnionRenderers\",\"id\":\"p2342\"},\"data\":{\"type\":\"map\",\"entries\":[[\"size\",{\"type\":\"ndarray\",\"array\":{\"type\":\"bytes\",\"data\":\"GAAAAA0AAAASAAAAMQAAACYAAAAhAAAAFAAAACAAAAApAAAAHQAAAAoAAAAhAAAAKQAAACkAAAAoAAAAMQAAAA4AAAANAAAAEAAAAC4AAAAvAAAADQAAAAoAAAAdAAAAFQAAACIAAAAQAAAAJwAAACsAAAApAAAAEQAAAAwAAAAQAAAAMAAAADEAAAAtAAAAIQAAABAAAAAKAAAAFQAAACgAAAAQAAAAFAAAABEAAAAlAAAALAAAABUAAAAYAAAACgAAABMAAAAaAAAAEgAAACsAAAAqAAAAEAAAABQAAAAsAAAAEQAAABgAAAASAAAALAAAABEAAAAWAAAAHwAAAB8AAAAKAAAAJAAAABoAAAAYAAAAJwAAACAAAAAPAAAAIwAAAAwAAAAUAAAAKQAAABgAAAAeAAAAGQAAABwAAAAYAAAAKwAAAC4AAAAKAAAAJwAAAA0AAAApAAAAFwAAACQAAAArAAAAMQAAABcAAAALAAAAJwAAAA8AAAArAAAAGgAAACAAAAAsAAAADAAAAA==\"},\"shape\":[100],\"dtype\":\"int32\",\"order\":\"little\"}],[\"x\",{\"type\":\"ndarray\",\"array\":{\"type\":\"bytes\",\"data\":\"kH3VTaZR5T9UYqjS2M/iP9Atttr+aOU/fEg/GduV1j/AcksO3/vHP8kPG6P23uc/ZKIYu2a01T+Qpp9zmxPoP/gu+nZZibY/mMMyMXgS5j/dZovzcgXkP1C/OGBgMq8/lDLQUplB2z+adNzT55/uP3q9bgZNbtM/zDYI/iK87T8Zmw3fyc3nP7w3HeFCA8Y/YkDXrKMF2D+I8MFEUl/AP5dtKKWJ7eQ/psf7Zl6a3j8vJB48KsjnP8+Zl9Cvtu4/4pemIMrS7j9spC5amKPQP7StOaT9h+k/1gFbSdYB6j8vnoqwSfHvPz9qQ2z7Tew/6+0RtUfA6T/gHTclCU+YPz6R/Ilu8uA/Z8GFGtP95j9jvpJMcEvrP0aIS3Jna9c/jBA5Ln1D0j/gPpRXw1TsPyLrKxOwV+k/ymHfYVkQ2T9hhV9qB/joP8jvy2V5rt0/oObWF5CfuT/sfeldEeXdP80TMgcSy+k/uFvk6Ajluz8CG5UH/3PSP18+6p0CGuM/cGGN+rwr0T+4+3cUhJfnP1CvvngY7tk/dnaDUCWv4T9y2Vi6kErTPzC1Az8GyKo/FmSEBOb87T+AIqbCiEaqPzyDWool4eE/wNHTVg4q5T9/LcsBjjHpPwCl50IiVN4/9rjmT1P45D+Uymeb0QLqPyGsOO4Cp+4/ZLPbFsc81z8aHhDFji7fP5ykiUFenMY/bGyHLIPP2T8UoVi0Fv/oPyYXpXOgU+A/xwzpXRe24D920DepUZDnP8D8GFXMV6I/hiiPCQ6L5j/AK0YjEbbcP/TxEWeADuA/QMgnGU+phT+sZ+siIqTJPwB01EbmBKs/zt7aGa+56z9J1+MkiTLoP8nKmKAkgOM/AoZTWcjt7T/g6uDLLyLhP5DUR8LZ9as/wWt9p5dz5z+uR8V5/w3lP+ha9mtxINc/aByCxO3x0T9mG2u5K+nRPzAZIRBTpbU/Rsz3wdoo3D+CY6iHP2rhP9DrCY4rLcM/MFl3YyHNtD/4fjYq8UjoP0NaoDHD3e0/yMV9hBXg5z9ALzSEw9uLP/B/hZsdvKQ/osZGkqmu4T8=\"},\"shape\":[100],\"dtype\":\"float64\",\"order\":\"little\"}],[\"y\",{\"type\":\"ndarray\",\"array\":{\"type\":\"bytes\",\"data\":\"TLh581Ln6T+sBgWcb43OPzuKaCwkgek/sjBjzdKs2z9PjHjZRuPrPwJS0Od9QdY/yjphkRRA4D+klNVQYy3JP9yI5qyQ2sw/ACZHGwaS1z9uelAWUBTXPygHHHYmINc/eM/G/Ani4j84cU/wruyzPw0Smdd5peA/OIdQ/d8YwD+KrGATs9PqP/RSth7xX9E/fRUjHFCr4T9uwYnDRTDqPyhYhIGqksU/1BPGkIGW6j/Yskdd6QzMP+4/f/k1fuU/4w97pnav5D8FXrzsggvoP9g52A6HLMQ/vAGSqw002j+wTDX7+erHP9hICJXU5eM/MNlgT1eMyD8uOc/NwXLaP+8NPgZ7/eo/oPjl46T91T8gWI6CoLnsP5S1DLBCo9w/kLmQ9Ryp0j9EJQPi2znLPxD3U/t8w+E/zP+oe1le3T9k3iBpMijgP6a7u+pSxdg//P6iembGxj/mxEeze/vXP+By8/sZU6Q/Olvm+ewZ6D/JYj7AlergP3CjpqfYV7E/oKbFzrIvnj/0URbdeNXfP9dvnyzB/+U/aFmiRcm47z9gLCs0cEHfPwjp/oqyx9g/4oT1AtiG3D+FGXx+jPfiP8BUmMw76JM/uPdyWxBK7j9Aha2BaPfsP6DjHn91I+8/YkH3dmvq6z9g5pOA9NPMP7g4OV7Aj+Y/vflKmETn5z8AIgqSg3BzPyb6FXLz/eU/P1E+aAOX4j/Y3N0cdRuwP9rsbqUvfeI/lnvilZQQ3T+R+RMeiPvpP4CDd8s3LLc/Fakg63pS5T8uhHfD+uTdP9wrBf+lg9E/2I0yoXpvuz+60KLDo5/vPzgJlijj7NE/IE2P0/CByT8MTqarRZDXP7C0N1XhJu8/wMAGPKhggj/yRS6wkhfcP1iX9UXKv8c/uL5cZgUXwD8+DzeLKKnQP+NTusBMEOk/YLeb5rjJqj8L3GKc+f7iP3lCvA4fSew/kS0tRB677D/762spPrvlP1z3ZXvlt+w/wUQ+r/sR4z/NOrywCd7vP17WvqZEuuM/uJ04qxiQuz+cWpTomqHtP+DzkoVC2+M/qy75GoZD6z8=\"},\"shape\":[100],\"dtype\":\"float64\",\"order\":\"little\"}],[\"hatch_color\",[\"#4bc9e9\",\"#e7d25d\",\"#c01aa2\",\"#3cdd53\",\"#185c86\",\"#362525\",\"#4aecdd\",\"#83e1b3\",\"#36dca4\",\"#0df900\",\"#1db55c\",\"#28791b\",\"#298fde\",\"#7ef18f\",\"#6ce891\",\"#f59a95\",\"#9c18e8\",\"#b7f9b7\",\"#36c1ad\",\"#7f8aef\",\"#4321b5\",\"#12c752\",\"#73ee40\",\"#50f036\",\"#660aac\",\"#bcf65d\",\"#32b494\",\"#72bdf1\",\"#6b0254\",\"#6a1773\",\"#61b5aa\",\"#f73fe8\",\"#b94312\",\"#f5a2d5\",\"#0bb9ab\",\"#ac9b6d\",\"#b92803\",\"#680c04\",\"#d65e20\",\"#bf7f04\",\"#6d40f1\",\"#8155f6\",\"#861ad8\",\"#b7ecb6\",\"#961f65\",\"#8fb07c\",\"#7fbe6c\",\"#b92775\",\"#5541ef\",\"#b9c827\",\"#946f63\",\"#507be1\",\"#c8bbd5\",\"#cb85ed\",\"#224fe6\",\"#e082f8\",\"#e5495e\",\"#8b9796\",\"#64f61a\",\"#1c8019\",\"#ffaa73\",\"#f1bb68\",\"#2deb8e\",\"#24fc80\",\"#d76b4e\",\"#9b527f\",\"#0e8e2a\",\"#ec87d0\",\"#9839e4\",\"#197710\",\"#c96751\",\"#1da542\",\"#ad28d7\",\"#c6b401\",\"#587443\",\"#4c24ff\",\"#53e557\",\"#9d52cf\",\"#50933a\",\"#d39c1a\",\"#f6577c\",\"#335262\",\"#bf2333\",\"#d70396\",\"#297738\",\"#93d3ce\",\"#79fa4e\",\"#38650f\",\"#6d8037\",\"#64d5a1\",\"#504e60\",\"#d84aca\",\"#a4d466\",\"#7c37ac\",\"#cdc68e\",\"#2c8aec\",\"#8486de\",\"#db5a2a\",\"#57b961\",\"#244d72\"]],[\"line_color\",[\"#4bc9e9\",\"#e7d25d\",\"#c01aa2\",\"#3cdd53\",\"#185c86\",\"#362525\",\"#4aecdd\",\"#83e1b3\",\"#36dca4\",\"#0df900\",\"#1db55c\",\"#28791b\",\"#298fde\",\"#7ef18f\",\"#6ce891\",\"#f59a95\",\"#9c18e8\",\"#b7f9b7\",\"#36c1ad\",\"#7f8aef\",\"#4321b5\",\"#12c752\",\"#73ee40\",\"#50f036\",\"#660aac\",\"#bcf65d\",\"#32b494\",\"#72bdf1\",\"#6b0254\",\"#6a1773\",\"#61b5aa\",\"#f73fe8\",\"#b94312\",\"#f5a2d5\",\"#0bb9ab\",\"#ac9b6d\",\"#b92803\",\"#680c04\",\"#d65e20\",\"#bf7f04\",\"#6d40f1\",\"#8155f6\",\"#861ad8\",\"#b7ecb6\",\"#961f65\",\"#8fb07c\",\"#7fbe6c\",\"#b92775\",\"#5541ef\",\"#b9c827\",\"#946f63\",\"#507be1\",\"#c8bbd5\",\"#cb85ed\",\"#224fe6\",\"#e082f8\",\"#e5495e\",\"#8b9796\",\"#64f61a\",\"#1c8019\",\"#ffaa73\",\"#f1bb68\",\"#2deb8e\",\"#24fc80\",\"#d76b4e\",\"#9b527f\",\"#0e8e2a\",\"#ec87d0\",\"#9839e4\",\"#197710\",\"#c96751\",\"#1da542\",\"#ad28d7\",\"#c6b401\",\"#587443\",\"#4c24ff\",\"#53e557\",\"#9d52cf\",\"#50933a\",\"#d39c1a\",\"#f6577c\",\"#335262\",\"#bf2333\",\"#d70396\",\"#297738\",\"#93d3ce\",\"#79fa4e\",\"#38650f\",\"#6d8037\",\"#64d5a1\",\"#504e60\",\"#d84aca\",\"#a4d466\",\"#7c37ac\",\"#cdc68e\",\"#2c8aec\",\"#8486de\",\"#db5a2a\",\"#57b961\",\"#244d72\"]],[\"fill_color\",[\"#4bc9e9\",\"#e7d25d\",\"#c01aa2\",\"#3cdd53\",\"#185c86\",\"#362525\",\"#4aecdd\",\"#83e1b3\",\"#36dca4\",\"#0df900\",\"#1db55c\",\"#28791b\",\"#298fde\",\"#7ef18f\",\"#6ce891\",\"#f59a95\",\"#9c18e8\",\"#b7f9b7\",\"#36c1ad\",\"#7f8aef\",\"#4321b5\",\"#12c752\",\"#73ee40\",\"#50f036\",\"#660aac\",\"#bcf65d\",\"#32b494\",\"#72bdf1\",\"#6b0254\",\"#6a1773\",\"#61b5aa\",\"#f73fe8\",\"#b94312\",\"#f5a2d5\",\"#0bb9ab\",\"#ac9b6d\",\"#b92803\",\"#680c04\",\"#d65e20\",\"#bf7f04\",\"#6d40f1\",\"#8155f6\",\"#861ad8\",\"#b7ecb6\",\"#961f65\",\"#8fb07c\",\"#7fbe6c\",\"#b92775\",\"#5541ef\",\"#b9c827\",\"#946f63\",\"#507be1\",\"#c8bbd5\",\"#cb85ed\",\"#224fe6\",\"#e082f8\",\"#e5495e\",\"#8b9796\",\"#64f61a\",\"#1c8019\",\"#ffaa73\",\"#f1bb68\",\"#2deb8e\",\"#24fc80\",\"#d76b4e\",\"#9b527f\",\"#0e8e2a\",\"#ec87d0\",\"#9839e4\",\"#197710\",\"#c96751\",\"#1da542\",\"#ad28d7\",\"#c6b401\",\"#587443\",\"#4c24ff\",\"#53e557\",\"#9d52cf\",\"#50933a\",\"#d39c1a\",\"#f6577c\",\"#335262\",\"#bf2333\",\"#d70396\",\"#297738\",\"#93d3ce\",\"#79fa4e\",\"#38650f\",\"#6d8037\",\"#64d5a1\",\"#504e60\",\"#d84aca\",\"#a4d466\",\"#7c37ac\",\"#cdc68e\",\"#2c8aec\",\"#8486de\",\"#db5a2a\",\"#57b961\",\"#244d72\"]]]}}},\"view\":{\"type\":\"object\",\"name\":\"CDSView\",\"id\":\"p2347\",\"attributes\":{\"filter\":{\"type\":\"object\",\"name\":\"AllIndices\",\"id\":\"p2348\"}}},\"glyph\":{\"type\":\"object\",\"name\":\"Scatter\",\"id\":\"p2343\",\"attributes\":{\"x\":{\"type\":\"field\",\"field\":\"x\"},\"y\":{\"type\":\"field\",\"field\":\"y\"},\"size\":{\"type\":\"field\",\"field\":\"size\"},\"line_color\":{\"type\":\"field\",\"field\":\"line_color\"},\"fill_color\":{\"type\":\"field\",\"field\":\"fill_color\"},\"fill_alpha\":{\"type\":\"value\",\"value\":0.6},\"hatch_color\":{\"type\":\"field\",\"field\":\"hatch_color\"}}},\"nonselection_glyph\":{\"type\":\"object\",\"name\":\"Scatter\",\"id\":\"p2344\",\"attributes\":{\"x\":{\"type\":\"field\",\"field\":\"x\"},\"y\":{\"type\":\"field\",\"field\":\"y\"},\"size\":{\"type\":\"field\",\"field\":\"size\"},\"line_color\":{\"type\":\"field\",\"field\":\"line_color\"},\"line_alpha\":{\"type\":\"value\",\"value\":0.1},\"fill_color\":{\"type\":\"field\",\"field\":\"fill_color\"},\"fill_alpha\":{\"type\":\"value\",\"value\":0.1},\"hatch_color\":{\"type\":\"field\",\"field\":\"hatch_color\"},\"hatch_alpha\":{\"type\":\"value\",\"value\":0.1}}},\"muted_glyph\":{\"type\":\"object\",\"name\":\"Scatter\",\"id\":\"p2345\",\"attributes\":{\"x\":{\"type\":\"field\",\"field\":\"x\"},\"y\":{\"type\":\"field\",\"field\":\"y\"},\"size\":{\"type\":\"field\",\"field\":\"size\"},\"line_color\":{\"type\":\"field\",\"field\":\"line_color\"},\"line_alpha\":{\"type\":\"value\",\"value\":0.2},\"fill_color\":{\"type\":\"field\",\"field\":\"fill_color\"},\"fill_alpha\":{\"type\":\"value\",\"value\":0.2},\"hatch_color\":{\"type\":\"field\",\"field\":\"hatch_color\"},\"hatch_alpha\":{\"type\":\"value\",\"value\":0.2}}}}}],\"toolbar\":{\"type\":\"object\",\"name\":\"Toolbar\",\"id\":\"p2299\",\"attributes\":{\"tools\":[{\"type\":\"object\",\"name\":\"PanTool\",\"id\":\"p2325\"},{\"type\":\"object\",\"name\":\"WheelZoomTool\",\"id\":\"p2326\"},{\"type\":\"object\",\"name\":\"BoxZoomTool\",\"id\":\"p2327\",\"attributes\":{\"overlay\":{\"type\":\"object\",\"name\":\"BoxAnnotation\",\"id\":\"p2328\",\"attributes\":{\"syncable\":false,\"level\":\"overlay\",\"visible\":false,\"left_units\":\"canvas\",\"right_units\":\"canvas\",\"bottom_units\":\"canvas\",\"top_units\":\"canvas\",\"line_color\":\"black\",\"line_alpha\":1.0,\"line_width\":2,\"line_dash\":[4,4],\"fill_color\":\"lightgrey\",\"fill_alpha\":0.5}}}},{\"type\":\"object\",\"name\":\"SaveTool\",\"id\":\"p2329\"},{\"type\":\"object\",\"name\":\"ResetTool\",\"id\":\"p2330\"},{\"type\":\"object\",\"name\":\"HelpTool\",\"id\":\"p2331\"}]}},\"left\":[{\"type\":\"object\",\"name\":\"LinearAxis\",\"id\":\"p2318\",\"attributes\":{\"ticker\":{\"type\":\"object\",\"name\":\"BasicTicker\",\"id\":\"p2319\",\"attributes\":{\"mantissas\":[1,2,5]}},\"formatter\":{\"type\":\"object\",\"name\":\"BasicTickFormatter\",\"id\":\"p2320\"},\"axis_label\":\"y\",\"major_label_policy\":{\"type\":\"object\",\"name\":\"AllLabels\",\"id\":\"p2321\"}}}],\"below\":[{\"type\":\"object\",\"name\":\"LinearAxis\",\"id\":\"p2311\",\"attributes\":{\"ticker\":{\"type\":\"object\",\"name\":\"BasicTicker\",\"id\":\"p2312\",\"attributes\":{\"mantissas\":[1,2,5]}},\"formatter\":{\"type\":\"object\",\"name\":\"BasicTickFormatter\",\"id\":\"p2313\"},\"axis_label\":\"x\",\"major_label_policy\":{\"type\":\"object\",\"name\":\"AllLabels\",\"id\":\"p2314\"}}}],\"center\":[{\"type\":\"object\",\"name\":\"Grid\",\"id\":\"p2317\",\"attributes\":{\"axis\":{\"id\":\"p2311\"}}},{\"type\":\"object\",\"name\":\"Grid\",\"id\":\"p2324\",\"attributes\":{\"dimension\":1,\"axis\":{\"id\":\"p2318\"}}}]}}]}};\n",
       "  const render_items = [{\"docid\":\"486319f4-f397-4701-9659-25c5ae61777c\",\"roots\":{\"p2293\":\"dafe7776-d86a-48f1-a863-b6c049651832\"},\"root_ids\":[\"p2293\"]}];\n",
       "  root.Bokeh.embed.embed_items_notebook(docs_json, render_items);\n",
       "  }\n",
       "  if (root.Bokeh !== undefined) {\n",
       "    embed_document(root);\n",
       "  } else {\n",
       "    let attempts = 0;\n",
       "    const timer = setInterval(function(root) {\n",
       "      if (root.Bokeh !== undefined) {\n",
       "        clearInterval(timer);\n",
       "        embed_document(root);\n",
       "      } else {\n",
       "        attempts++;\n",
       "        if (attempts > 100) {\n",
       "          clearInterval(timer);\n",
       "          console.log(\"Bokeh: ERROR: Unable to run BokehJS code because BokehJS library is missing\");\n",
       "        }\n",
       "      }\n",
       "    }, 10, root)\n",
       "  }\n",
       "})(window);"
      ],
      "application/vnd.bokehjs_exec.v0+json": ""
     },
     "metadata": {
      "application/vnd.bokehjs_exec.v0+json": {
       "id": "p2293"
      }
     },
     "output_type": "display_data"
    }
   ],
   "source": [
    "# code->\n",
    "x = np.random.rand(100)\n",
    "y = np.random.rand(100)\n",
    "sizes = np.random.randint(10, 50, size=100)\n",
    "n = 100\n",
    "colors = np.random.randint(0, 256, size=(n,3))\n",
    "colors = ['#{:02x}{:02x}{:02x}'.format(*c) for c in colors]\n",
    "\n",
    "p = figure(title='Random Scatter Plot', x_axis_label='x', y_axis_label='y')\n",
    "p.scatter(x, y, size=sizes, color=colors, fill_alpha=0.6)\n",
    "show(p)"
   ]
  },
  {
   "cell_type": "code",
   "execution_count": 7,
   "id": "13b5c9d7-7b87-441b-b7c6-b27156f89763",
   "metadata": {},
   "outputs": [],
   "source": [
    "# Qn3. Generate a Bokeh bar chart representing the counts of different fruits using the following dataset."
   ]
  },
  {
   "cell_type": "code",
   "execution_count": 16,
   "id": "6cdcdc11-b9b1-410a-aaf6-d443a840e051",
   "metadata": {},
   "outputs": [
    {
     "data": {
      "text/html": [
       "\n",
       "  <div id=\"fcd7ff05-ee26-446b-944d-d78d3d9312aa\" data-root-id=\"p2457\" style=\"display: contents;\"></div>\n"
      ]
     },
     "metadata": {},
     "output_type": "display_data"
    },
    {
     "data": {
      "application/javascript": [
       "(function(root) {\n",
       "  function embed_document(root) {\n",
       "  const docs_json = {\"e22deb79-7ee5-417a-9812-adc983b9f36f\":{\"version\":\"3.0.3\",\"title\":\"Bokeh Application\",\"defs\":[],\"roots\":[{\"type\":\"object\",\"name\":\"Figure\",\"id\":\"p2457\",\"attributes\":{\"x_range\":{\"type\":\"object\",\"name\":\"FactorRange\",\"id\":\"p2467\",\"attributes\":{\"factors\":[\"Apples\",\"Oranges\",\"Bananas\",\"Pears\"]}},\"y_range\":{\"type\":\"object\",\"name\":\"DataRange1d\",\"id\":\"p2459\"},\"x_scale\":{\"type\":\"object\",\"name\":\"CategoricalScale\",\"id\":\"p2471\"},\"y_scale\":{\"type\":\"object\",\"name\":\"LinearScale\",\"id\":\"p2473\"},\"title\":{\"type\":\"object\",\"name\":\"Title\",\"id\":\"p2460\",\"attributes\":{\"text\":\"Fruit Counts\"}},\"renderers\":[{\"type\":\"object\",\"name\":\"GlyphRenderer\",\"id\":\"p2509\",\"attributes\":{\"data_source\":{\"type\":\"object\",\"name\":\"ColumnDataSource\",\"id\":\"p2503\",\"attributes\":{\"selected\":{\"type\":\"object\",\"name\":\"Selection\",\"id\":\"p2504\",\"attributes\":{\"indices\":[],\"line_indices\":[]}},\"selection_policy\":{\"type\":\"object\",\"name\":\"UnionRenderers\",\"id\":\"p2505\"},\"data\":{\"type\":\"map\",\"entries\":[[\"x\",[\"Apples\",\"Oranges\",\"Bananas\",\"Pears\"]],[\"top\",[20,25,30,35]]]}}},\"view\":{\"type\":\"object\",\"name\":\"CDSView\",\"id\":\"p2510\",\"attributes\":{\"filter\":{\"type\":\"object\",\"name\":\"AllIndices\",\"id\":\"p2511\"}}},\"glyph\":{\"type\":\"object\",\"name\":\"VBar\",\"id\":\"p2506\",\"attributes\":{\"x\":{\"type\":\"field\",\"field\":\"x\"},\"width\":{\"type\":\"value\",\"value\":0.8},\"top\":{\"type\":\"field\",\"field\":\"top\"},\"line_color\":{\"type\":\"value\",\"value\":\"#1f77b4\"},\"fill_color\":{\"type\":\"value\",\"value\":\"#1f77b4\"}}},\"nonselection_glyph\":{\"type\":\"object\",\"name\":\"VBar\",\"id\":\"p2507\",\"attributes\":{\"x\":{\"type\":\"field\",\"field\":\"x\"},\"width\":{\"type\":\"value\",\"value\":0.8},\"top\":{\"type\":\"field\",\"field\":\"top\"},\"line_color\":{\"type\":\"value\",\"value\":\"#1f77b4\"},\"line_alpha\":{\"type\":\"value\",\"value\":0.1},\"fill_color\":{\"type\":\"value\",\"value\":\"#1f77b4\"},\"fill_alpha\":{\"type\":\"value\",\"value\":0.1},\"hatch_alpha\":{\"type\":\"value\",\"value\":0.1}}},\"muted_glyph\":{\"type\":\"object\",\"name\":\"VBar\",\"id\":\"p2508\",\"attributes\":{\"x\":{\"type\":\"field\",\"field\":\"x\"},\"width\":{\"type\":\"value\",\"value\":0.8},\"top\":{\"type\":\"field\",\"field\":\"top\"},\"line_color\":{\"type\":\"value\",\"value\":\"#1f77b4\"},\"line_alpha\":{\"type\":\"value\",\"value\":0.2},\"fill_color\":{\"type\":\"value\",\"value\":\"#1f77b4\"},\"fill_alpha\":{\"type\":\"value\",\"value\":0.2},\"hatch_alpha\":{\"type\":\"value\",\"value\":0.2}}}}}],\"toolbar\":{\"type\":\"object\",\"name\":\"Toolbar\",\"id\":\"p2463\",\"attributes\":{\"tools\":[{\"type\":\"object\",\"name\":\"PanTool\",\"id\":\"p2488\"},{\"type\":\"object\",\"name\":\"WheelZoomTool\",\"id\":\"p2489\"},{\"type\":\"object\",\"name\":\"BoxZoomTool\",\"id\":\"p2490\",\"attributes\":{\"overlay\":{\"type\":\"object\",\"name\":\"BoxAnnotation\",\"id\":\"p2491\",\"attributes\":{\"syncable\":false,\"level\":\"overlay\",\"visible\":false,\"left_units\":\"canvas\",\"right_units\":\"canvas\",\"bottom_units\":\"canvas\",\"top_units\":\"canvas\",\"line_color\":\"black\",\"line_alpha\":1.0,\"line_width\":2,\"line_dash\":[4,4],\"fill_color\":\"lightgrey\",\"fill_alpha\":0.5}}}},{\"type\":\"object\",\"name\":\"SaveTool\",\"id\":\"p2492\"},{\"type\":\"object\",\"name\":\"ResetTool\",\"id\":\"p2493\"},{\"type\":\"object\",\"name\":\"HelpTool\",\"id\":\"p2494\"}]}},\"left\":[{\"type\":\"object\",\"name\":\"LinearAxis\",\"id\":\"p2481\",\"attributes\":{\"ticker\":{\"type\":\"object\",\"name\":\"BasicTicker\",\"id\":\"p2482\",\"attributes\":{\"mantissas\":[1,2,5]}},\"formatter\":{\"type\":\"object\",\"name\":\"BasicTickFormatter\",\"id\":\"p2483\"},\"major_label_policy\":{\"type\":\"object\",\"name\":\"AllLabels\",\"id\":\"p2484\"}}}],\"below\":[{\"type\":\"object\",\"name\":\"CategoricalAxis\",\"id\":\"p2475\",\"attributes\":{\"ticker\":{\"type\":\"object\",\"name\":\"CategoricalTicker\",\"id\":\"p2476\"},\"formatter\":{\"type\":\"object\",\"name\":\"CategoricalTickFormatter\",\"id\":\"p2477\"},\"major_label_policy\":{\"type\":\"object\",\"name\":\"AllLabels\",\"id\":\"p2478\"}}}],\"center\":[{\"type\":\"object\",\"name\":\"Grid\",\"id\":\"p2480\",\"attributes\":{\"axis\":{\"id\":\"p2475\"}}},{\"type\":\"object\",\"name\":\"Grid\",\"id\":\"p2487\",\"attributes\":{\"dimension\":1,\"axis\":{\"id\":\"p2481\"}}}]}}]}};\n",
       "  const render_items = [{\"docid\":\"e22deb79-7ee5-417a-9812-adc983b9f36f\",\"roots\":{\"p2457\":\"fcd7ff05-ee26-446b-944d-d78d3d9312aa\"},\"root_ids\":[\"p2457\"]}];\n",
       "  root.Bokeh.embed.embed_items_notebook(docs_json, render_items);\n",
       "  }\n",
       "  if (root.Bokeh !== undefined) {\n",
       "    embed_document(root);\n",
       "  } else {\n",
       "    let attempts = 0;\n",
       "    const timer = setInterval(function(root) {\n",
       "      if (root.Bokeh !== undefined) {\n",
       "        clearInterval(timer);\n",
       "        embed_document(root);\n",
       "      } else {\n",
       "        attempts++;\n",
       "        if (attempts > 100) {\n",
       "          clearInterval(timer);\n",
       "          console.log(\"Bokeh: ERROR: Unable to run BokehJS code because BokehJS library is missing\");\n",
       "        }\n",
       "      }\n",
       "    }, 10, root)\n",
       "  }\n",
       "})(window);"
      ],
      "application/vnd.bokehjs_exec.v0+json": ""
     },
     "metadata": {
      "application/vnd.bokehjs_exec.v0+json": {
       "id": "p2457"
      }
     },
     "output_type": "display_data"
    }
   ],
   "source": [
    "# code->\n",
    "fruits = ['Apples', 'Oranges', 'Bananas', 'Pears']\n",
    "counts = [20, 25, 30, 35]\n",
    "\n",
    "p = figure(x_range=fruits,title='Fruit Counts')\n",
    "p.vbar(x=fruits, top=counts, width=0.8)\n",
    "show(p)"
   ]
  },
  {
   "cell_type": "code",
   "execution_count": 9,
   "id": "ef402a30-437b-4a7e-bd64-242e6f0003d5",
   "metadata": {},
   "outputs": [],
   "source": [
    "# Qn4. Create a Bokeh histogram to visualize the distribution of the given data."
   ]
  },
  {
   "cell_type": "code",
   "execution_count": 17,
   "id": "07244cd8-cad4-48ba-8812-b6ca09ecc791",
   "metadata": {},
   "outputs": [
    {
     "data": {
      "text/html": [
       "\n",
       "  <div id=\"83cea24a-e262-4cf9-97e4-92916ee3676e\" data-root-id=\"p2630\" style=\"display: contents;\"></div>\n"
      ]
     },
     "metadata": {},
     "output_type": "display_data"
    },
    {
     "data": {
      "application/javascript": [
       "(function(root) {\n",
       "  function embed_document(root) {\n",
       "  const docs_json = {\"650eea7a-6b30-4d3a-bdc5-141afbafd2e1\":{\"version\":\"3.0.3\",\"title\":\"Bokeh Application\",\"defs\":[],\"roots\":[{\"type\":\"object\",\"name\":\"Figure\",\"id\":\"p2630\",\"attributes\":{\"x_range\":{\"type\":\"object\",\"name\":\"DataRange1d\",\"id\":\"p2631\"},\"y_range\":{\"type\":\"object\",\"name\":\"DataRange1d\",\"id\":\"p2632\"},\"x_scale\":{\"type\":\"object\",\"name\":\"LinearScale\",\"id\":\"p2644\"},\"y_scale\":{\"type\":\"object\",\"name\":\"LinearScale\",\"id\":\"p2646\"},\"title\":{\"type\":\"object\",\"name\":\"Title\",\"id\":\"p2633\",\"attributes\":{\"text\":\"Histogram\"}},\"renderers\":[{\"type\":\"object\",\"name\":\"GlyphRenderer\",\"id\":\"p2683\",\"attributes\":{\"data_source\":{\"type\":\"object\",\"name\":\"ColumnDataSource\",\"id\":\"p2677\",\"attributes\":{\"selected\":{\"type\":\"object\",\"name\":\"Selection\",\"id\":\"p2678\",\"attributes\":{\"indices\":[],\"line_indices\":[]}},\"selection_policy\":{\"type\":\"object\",\"name\":\"UnionRenderers\",\"id\":\"p2679\"},\"data\":{\"type\":\"map\",\"entries\":[[\"top\",{\"type\":\"ndarray\",\"array\":{\"type\":\"bytes\",\"data\":\"AwAAAAAAAAAMAAAACQAAAAkAAAARAAAAHgAAACAAAAA2AAAANQAAAEAAAAA+AAAAVgAAAFIAAABSAAAATwAAAEQAAAA+AAAAMwAAAC8AAAAbAAAAGwAAAAsAAAAKAAAADQAAAAYAAAADAAAAAAAAAAAAAAABAAAA\"},\"shape\":[30],\"dtype\":\"int32\",\"order\":\"little\"}],[\"left\",{\"type\":\"ndarray\",\"array\":{\"type\":\"bytes\",\"data\":\"otZD4ygHBsDfm3j2LXAEwBxhrQkz2QLAWSbiHDhCAcAs1y1gelb/v6Zhl4aEKPy/IewArY76+L+bdmrTmMz1vxUB1PminvK/Hhd7QFrh7r8SLE6NboXovwhBIdqCKeK/+KvoTS6b17/Aqx3PrcbFv4ADsOwHSJ0/oKxJyq8YzT9orH5LL0TbP0BB7FgD/uM/TCwZDO9Z6j+sC6Nf7VrwPzKBOTnjiPM/uPbPEtm29j88bGbszuT5P8Th/MXEEv0/pKvJT10gAEBo5pQ8WLcBQCohYClTTgNA7lsrFk7lBECwlvYCSXwGQHTRwe9DEwhA\"},\"shape\":[30],\"dtype\":\"float64\",\"order\":\"little\"}],[\"right\",{\"type\":\"ndarray\",\"array\":{\"type\":\"bytes\",\"data\":\"35t49i1wBMAcYa0JM9kCwFkm4hw4QgHALNctYHpW/7+mYZeGhCj8vyHsAK2O+vi/m3Zq05jM9b8VAdT5op7yvx4Xe0Ba4e6/EixOjW6F6L8IQSHaginiv/ir6E0um9e/wKsdz63Gxb+AA7DsB0idP6CsScqvGM0/aKx+Sy9E2z9AQexYA/7jP0wsGQzvWeo/rAujX+1a8D8ygTk544jzP7j2zxLZtvY/PGxm7M7k+T/E4fzFxBL9P6SryU9dIABAaOaUPFi3AUAqIWApU04DQO5bKxZO5QRAsJb2Akl8BkB00cHvQxMIQDUMjdw+qglA\"},\"shape\":[30],\"dtype\":\"float64\",\"order\":\"little\"}]]}}},\"view\":{\"type\":\"object\",\"name\":\"CDSView\",\"id\":\"p2684\",\"attributes\":{\"filter\":{\"type\":\"object\",\"name\":\"AllIndices\",\"id\":\"p2685\"}}},\"glyph\":{\"type\":\"object\",\"name\":\"Quad\",\"id\":\"p2680\",\"attributes\":{\"left\":{\"type\":\"field\",\"field\":\"left\"},\"right\":{\"type\":\"field\",\"field\":\"right\"},\"bottom\":{\"type\":\"value\",\"value\":0},\"top\":{\"type\":\"field\",\"field\":\"top\"},\"line_color\":{\"type\":\"value\",\"value\":\"white\"},\"fill_color\":{\"type\":\"value\",\"value\":\"red\"}}},\"nonselection_glyph\":{\"type\":\"object\",\"name\":\"Quad\",\"id\":\"p2681\",\"attributes\":{\"left\":{\"type\":\"field\",\"field\":\"left\"},\"right\":{\"type\":\"field\",\"field\":\"right\"},\"bottom\":{\"type\":\"value\",\"value\":0},\"top\":{\"type\":\"field\",\"field\":\"top\"},\"line_color\":{\"type\":\"value\",\"value\":\"white\"},\"line_alpha\":{\"type\":\"value\",\"value\":0.1},\"fill_color\":{\"type\":\"value\",\"value\":\"red\"},\"fill_alpha\":{\"type\":\"value\",\"value\":0.1},\"hatch_alpha\":{\"type\":\"value\",\"value\":0.1}}},\"muted_glyph\":{\"type\":\"object\",\"name\":\"Quad\",\"id\":\"p2682\",\"attributes\":{\"left\":{\"type\":\"field\",\"field\":\"left\"},\"right\":{\"type\":\"field\",\"field\":\"right\"},\"bottom\":{\"type\":\"value\",\"value\":0},\"top\":{\"type\":\"field\",\"field\":\"top\"},\"line_color\":{\"type\":\"value\",\"value\":\"white\"},\"line_alpha\":{\"type\":\"value\",\"value\":0.2},\"fill_color\":{\"type\":\"value\",\"value\":\"red\"},\"fill_alpha\":{\"type\":\"value\",\"value\":0.2},\"hatch_alpha\":{\"type\":\"value\",\"value\":0.2}}}}}],\"toolbar\":{\"type\":\"object\",\"name\":\"Toolbar\",\"id\":\"p2636\",\"attributes\":{\"tools\":[{\"type\":\"object\",\"name\":\"PanTool\",\"id\":\"p2662\"},{\"type\":\"object\",\"name\":\"WheelZoomTool\",\"id\":\"p2663\"},{\"type\":\"object\",\"name\":\"BoxZoomTool\",\"id\":\"p2664\",\"attributes\":{\"overlay\":{\"type\":\"object\",\"name\":\"BoxAnnotation\",\"id\":\"p2665\",\"attributes\":{\"syncable\":false,\"level\":\"overlay\",\"visible\":false,\"left_units\":\"canvas\",\"right_units\":\"canvas\",\"bottom_units\":\"canvas\",\"top_units\":\"canvas\",\"line_color\":\"black\",\"line_alpha\":1.0,\"line_width\":2,\"line_dash\":[4,4],\"fill_color\":\"lightgrey\",\"fill_alpha\":0.5}}}},{\"type\":\"object\",\"name\":\"SaveTool\",\"id\":\"p2666\"},{\"type\":\"object\",\"name\":\"ResetTool\",\"id\":\"p2667\"},{\"type\":\"object\",\"name\":\"HelpTool\",\"id\":\"p2668\"}]}},\"left\":[{\"type\":\"object\",\"name\":\"LinearAxis\",\"id\":\"p2655\",\"attributes\":{\"ticker\":{\"type\":\"object\",\"name\":\"BasicTicker\",\"id\":\"p2656\",\"attributes\":{\"mantissas\":[1,2,5]}},\"formatter\":{\"type\":\"object\",\"name\":\"BasicTickFormatter\",\"id\":\"p2657\"},\"axis_label\":\"Frequency\",\"major_label_policy\":{\"type\":\"object\",\"name\":\"AllLabels\",\"id\":\"p2658\"}}}],\"below\":[{\"type\":\"object\",\"name\":\"LinearAxis\",\"id\":\"p2648\",\"attributes\":{\"ticker\":{\"type\":\"object\",\"name\":\"BasicTicker\",\"id\":\"p2649\",\"attributes\":{\"mantissas\":[1,2,5]}},\"formatter\":{\"type\":\"object\",\"name\":\"BasicTickFormatter\",\"id\":\"p2650\"},\"axis_label\":\"Value\",\"major_label_policy\":{\"type\":\"object\",\"name\":\"AllLabels\",\"id\":\"p2651\"}}}],\"center\":[{\"type\":\"object\",\"name\":\"Grid\",\"id\":\"p2654\",\"attributes\":{\"axis\":{\"id\":\"p2648\"}}},{\"type\":\"object\",\"name\":\"Grid\",\"id\":\"p2661\",\"attributes\":{\"dimension\":1,\"axis\":{\"id\":\"p2655\"}}}]}}]}};\n",
       "  const render_items = [{\"docid\":\"650eea7a-6b30-4d3a-bdc5-141afbafd2e1\",\"roots\":{\"p2630\":\"83cea24a-e262-4cf9-97e4-92916ee3676e\"},\"root_ids\":[\"p2630\"]}];\n",
       "  root.Bokeh.embed.embed_items_notebook(docs_json, render_items);\n",
       "  }\n",
       "  if (root.Bokeh !== undefined) {\n",
       "    embed_document(root);\n",
       "  } else {\n",
       "    let attempts = 0;\n",
       "    const timer = setInterval(function(root) {\n",
       "      if (root.Bokeh !== undefined) {\n",
       "        clearInterval(timer);\n",
       "        embed_document(root);\n",
       "      } else {\n",
       "        attempts++;\n",
       "        if (attempts > 100) {\n",
       "          clearInterval(timer);\n",
       "          console.log(\"Bokeh: ERROR: Unable to run BokehJS code because BokehJS library is missing\");\n",
       "        }\n",
       "      }\n",
       "    }, 10, root)\n",
       "  }\n",
       "})(window);"
      ],
      "application/vnd.bokehjs_exec.v0+json": ""
     },
     "metadata": {
      "application/vnd.bokehjs_exec.v0+json": {
       "id": "p2630"
      }
     },
     "output_type": "display_data"
    }
   ],
   "source": [
    "# code->\n",
    "data_hist = np.random.randn(1000)\n",
    "hist, edges = np.histogram(data_hist, bins=30)\n",
    "\n",
    "p = figure(title='Histogram', x_axis_label='Value', y_axis_label='Frequency')\n",
    "p.quad(top=hist, bottom=0, left=edges[:-1], right=edges[1:], fill_color=\"red\", line_color=\"white\")\n",
    "show(p)"
   ]
  },
  {
   "cell_type": "code",
   "execution_count": 11,
   "id": "8ac9476a-aa7a-446e-bc2d-f15fa79a3442",
   "metadata": {},
   "outputs": [],
   "source": [
    "# Qn5. Create a Bokeh heatmap using the provided dataset."
   ]
  },
  {
   "cell_type": "code",
   "execution_count": 19,
   "id": "ccf2edf0-d2c5-4d74-8f11-924757747e73",
   "metadata": {},
   "outputs": [
    {
     "data": {
      "text/html": [
       "\n",
       "  <div id=\"4c08a294-d288-43a0-86ef-4774667e23ee\" data-root-id=\"p3033\" style=\"display: contents;\"></div>\n"
      ]
     },
     "metadata": {},
     "output_type": "display_data"
    },
    {
     "data": {
      "application/javascript": [
       "(function(root) {\n",
       "  function embed_document(root) {\n",
       "  const docs_json = {\"07d0a0b8-2455-4a83-88c4-a6d31c1d3d8c\":{\"version\":\"3.0.3\",\"title\":\"Bokeh Application\",\"defs\":[],\"roots\":[{\"type\":\"object\",\"name\":\"Figure\",\"id\":\"p3033\",\"attributes\":{\"x_range\":{\"type\":\"object\",\"name\":\"DataRange1d\",\"id\":\"p3034\"},\"y_range\":{\"type\":\"object\",\"name\":\"DataRange1d\",\"id\":\"p3035\"},\"x_scale\":{\"type\":\"object\",\"name\":\"LinearScale\",\"id\":\"p3047\"},\"y_scale\":{\"type\":\"object\",\"name\":\"LinearScale\",\"id\":\"p3049\"},\"title\":{\"type\":\"object\",\"name\":\"Title\",\"id\":\"p3036\",\"attributes\":{\"text\":\"Heatmap\"}},\"renderers\":[{\"type\":\"object\",\"name\":\"GlyphRenderer\",\"id\":\"p3090\",\"attributes\":{\"data_source\":{\"type\":\"object\",\"name\":\"ColumnDataSource\",\"id\":\"p3081\",\"attributes\":{\"selected\":{\"type\":\"object\",\"name\":\"Selection\",\"id\":\"p3082\",\"attributes\":{\"indices\":[],\"line_indices\":[]}},\"selection_policy\":{\"type\":\"object\",\"name\":\"UnionRenderers\",\"id\":\"p3083\"},\"data\":{\"type\":\"map\",\"entries\":[[\"image\",[{\"type\":\"ndarray\",\"array\":{\"type\":\"bytes\",\"data\":\"tZES/AQC6T9/Bi7TSYbuP6zJT5T3ldM/8BjmlO7k3z+NQrDczNboP3Tir0TcF+k/gPGedfKikj8SwYFP7mHSP6KY2ckbtNA/AMMhOVGBnD/xm32gDdnvP7WLLfaEzeg/PL4wMedYyz9wGWSntH/DPzQ/JJFKfeE/iAJtJslb1D/ppiJvfBDjPwBhWTHljZw/jEuRaQMpzz8XML3EFujnP9IgbTUAeus/xumXG7DP4j/owyUFuWbOP/eJg5kE7ew/VoftYcX53j8VeBRDFr7sPziJ6vs9oNc/fDoCWEbR7j/kjRxzGsPPP3ubCKQUb+4/lok03CBz3j++5rhbnG7qP1B6dhrQ/Lo/V5vsQPQn5T9gfkJQgGTQPxhkycveTMU/iCwM7jVn0j847rCZtry/P0iGzi+3Wu0/ULr6rlCXvj+ufTKfL13TP6QBOV2k/O4/0UN7ncZA5D/cMQ4MmoPOPzCZf4J20Kw/98IsL5O95j8Siof1fSLWP6gBsPI0at4/4cAtcGuq5z9i9zaDB2/kPy6yCBgxkeI/gtgW1NPJ5T/qjQX/LZDTP3gILwbwK+o/CJBjp98N6D8AMd7/5JFxP8oEH1Mv6ec/5rlKhNkO4z+HRKFNcPnmPwhvJGnLWOo/DSfzN5Gb4z8mET3X1XXTPzCGutd/ANc/TCo2aLUdyz/O0UOb2zTUP1A41TUgB8M/OFRxmQewsz+ZjzRbT/ruP/D5xfotFuo/uGTc9PLXsD8pZ018PxPqP+2iN/Mst+Q/2sBXFSik0D86MN3VjavvP/QFOfq7RsU/4NwU87X3xz9kp7AuN5LmP8jnzyNYF+A/Wlsl306o1D8gANpn4XnHP8b9i6lOV+4/xN8hq//O2z/EgPHbzGHjP6cSJJ7IUe0/0piCHyrY5z9YAxmQtDjUP+0mmZheuuA/jkiwZMNx4T9WCPX2tx3jP8Tm7eEpPdg/irzwrMcf7D+eg/XZwxDtP0hAlvdS/rc/bJYqkNRf0z/orG8u2ObEP/KdbxdIU9Y/6AmVOO8hxz/ARlraEIHBP/o4bYxVL9E/tEy1mGd16T8=\"},\"shape\":[10,10],\"dtype\":\"float64\",\"order\":\"little\"}]]]}}},\"view\":{\"type\":\"object\",\"name\":\"CDSView\",\"id\":\"p3091\",\"attributes\":{\"filter\":{\"type\":\"object\",\"name\":\"AllIndices\",\"id\":\"p3092\"}}},\"glyph\":{\"type\":\"object\",\"name\":\"Image\",\"id\":\"p3084\",\"attributes\":{\"x\":{\"type\":\"value\",\"value\":0},\"y\":{\"type\":\"value\",\"value\":0},\"dw\":{\"type\":\"value\",\"value\":1},\"dh\":{\"type\":\"value\",\"value\":1},\"image\":{\"type\":\"field\",\"field\":\"image\"},\"color_mapper\":{\"type\":\"object\",\"name\":\"LinearColorMapper\",\"id\":\"p3080\",\"attributes\":{\"palette\":[\"#440154\",\"#440255\",\"#440357\",\"#450558\",\"#45065A\",\"#45085B\",\"#46095C\",\"#460B5E\",\"#460C5F\",\"#460E61\",\"#470F62\",\"#471163\",\"#471265\",\"#471466\",\"#471567\",\"#471669\",\"#47186A\",\"#48196B\",\"#481A6C\",\"#481C6E\",\"#481D6F\",\"#481E70\",\"#482071\",\"#482172\",\"#482273\",\"#482374\",\"#472575\",\"#472676\",\"#472777\",\"#472878\",\"#472A79\",\"#472B7A\",\"#472C7B\",\"#462D7C\",\"#462F7C\",\"#46307D\",\"#46317E\",\"#45327F\",\"#45347F\",\"#453580\",\"#453681\",\"#443781\",\"#443982\",\"#433A83\",\"#433B83\",\"#433C84\",\"#423D84\",\"#423E85\",\"#424085\",\"#414186\",\"#414286\",\"#404387\",\"#404487\",\"#3F4587\",\"#3F4788\",\"#3E4888\",\"#3E4989\",\"#3D4A89\",\"#3D4B89\",\"#3D4C89\",\"#3C4D8A\",\"#3C4E8A\",\"#3B508A\",\"#3B518A\",\"#3A528B\",\"#3A538B\",\"#39548B\",\"#39558B\",\"#38568B\",\"#38578C\",\"#37588C\",\"#37598C\",\"#365A8C\",\"#365B8C\",\"#355C8C\",\"#355D8C\",\"#345E8D\",\"#345F8D\",\"#33608D\",\"#33618D\",\"#32628D\",\"#32638D\",\"#31648D\",\"#31658D\",\"#31668D\",\"#30678D\",\"#30688D\",\"#2F698D\",\"#2F6A8D\",\"#2E6B8E\",\"#2E6C8E\",\"#2E6D8E\",\"#2D6E8E\",\"#2D6F8E\",\"#2C708E\",\"#2C718E\",\"#2C728E\",\"#2B738E\",\"#2B748E\",\"#2A758E\",\"#2A768E\",\"#2A778E\",\"#29788E\",\"#29798E\",\"#287A8E\",\"#287A8E\",\"#287B8E\",\"#277C8E\",\"#277D8E\",\"#277E8E\",\"#267F8E\",\"#26808E\",\"#26818E\",\"#25828E\",\"#25838D\",\"#24848D\",\"#24858D\",\"#24868D\",\"#23878D\",\"#23888D\",\"#23898D\",\"#22898D\",\"#228A8D\",\"#228B8D\",\"#218C8D\",\"#218D8C\",\"#218E8C\",\"#208F8C\",\"#20908C\",\"#20918C\",\"#1F928C\",\"#1F938B\",\"#1F948B\",\"#1F958B\",\"#1F968B\",\"#1E978A\",\"#1E988A\",\"#1E998A\",\"#1E998A\",\"#1E9A89\",\"#1E9B89\",\"#1E9C89\",\"#1E9D88\",\"#1E9E88\",\"#1E9F88\",\"#1EA087\",\"#1FA187\",\"#1FA286\",\"#1FA386\",\"#20A485\",\"#20A585\",\"#21A685\",\"#21A784\",\"#22A784\",\"#23A883\",\"#23A982\",\"#24AA82\",\"#25AB81\",\"#26AC81\",\"#27AD80\",\"#28AE7F\",\"#29AF7F\",\"#2AB07E\",\"#2BB17D\",\"#2CB17D\",\"#2EB27C\",\"#2FB37B\",\"#30B47A\",\"#32B57A\",\"#33B679\",\"#35B778\",\"#36B877\",\"#38B976\",\"#39B976\",\"#3BBA75\",\"#3DBB74\",\"#3EBC73\",\"#40BD72\",\"#42BE71\",\"#44BE70\",\"#45BF6F\",\"#47C06E\",\"#49C16D\",\"#4BC26C\",\"#4DC26B\",\"#4FC369\",\"#51C468\",\"#53C567\",\"#55C666\",\"#57C665\",\"#59C764\",\"#5BC862\",\"#5EC961\",\"#60C960\",\"#62CA5F\",\"#64CB5D\",\"#67CC5C\",\"#69CC5B\",\"#6BCD59\",\"#6DCE58\",\"#70CE56\",\"#72CF55\",\"#74D054\",\"#77D052\",\"#79D151\",\"#7CD24F\",\"#7ED24E\",\"#81D34C\",\"#83D34B\",\"#86D449\",\"#88D547\",\"#8BD546\",\"#8DD644\",\"#90D643\",\"#92D741\",\"#95D73F\",\"#97D83E\",\"#9AD83C\",\"#9DD93A\",\"#9FD938\",\"#A2DA37\",\"#A5DA35\",\"#A7DB33\",\"#AADB32\",\"#ADDC30\",\"#AFDC2E\",\"#B2DD2C\",\"#B5DD2B\",\"#B7DD29\",\"#BADE27\",\"#BDDE26\",\"#BFDF24\",\"#C2DF22\",\"#C5DF21\",\"#C7E01F\",\"#CAE01E\",\"#CDE01D\",\"#CFE11C\",\"#D2E11B\",\"#D4E11A\",\"#D7E219\",\"#DAE218\",\"#DCE218\",\"#DFE318\",\"#E1E318\",\"#E4E318\",\"#E7E419\",\"#E9E419\",\"#ECE41A\",\"#EEE51B\",\"#F1E51C\",\"#F3E51E\",\"#F6E61F\",\"#F8E621\",\"#FAE622\",\"#FDE724\"],\"low\":0.004289526490435458,\"high\":0.9952457556327073}}}},\"nonselection_glyph\":{\"type\":\"object\",\"name\":\"Image\",\"id\":\"p3086\",\"attributes\":{\"x\":{\"type\":\"value\",\"value\":0},\"y\":{\"type\":\"value\",\"value\":0},\"dw\":{\"type\":\"value\",\"value\":1},\"dh\":{\"type\":\"value\",\"value\":1},\"global_alpha\":{\"type\":\"value\",\"value\":0.1},\"image\":{\"type\":\"field\",\"field\":\"image\"},\"color_mapper\":{\"id\":\"p3080\"}}},\"muted_glyph\":{\"type\":\"object\",\"name\":\"Image\",\"id\":\"p3088\",\"attributes\":{\"x\":{\"type\":\"value\",\"value\":0},\"y\":{\"type\":\"value\",\"value\":0},\"dw\":{\"type\":\"value\",\"value\":1},\"dh\":{\"type\":\"value\",\"value\":1},\"global_alpha\":{\"type\":\"value\",\"value\":0.2},\"image\":{\"type\":\"field\",\"field\":\"image\"},\"color_mapper\":{\"id\":\"p3080\"}}}}}],\"toolbar\":{\"type\":\"object\",\"name\":\"Toolbar\",\"id\":\"p3039\",\"attributes\":{\"tools\":[{\"type\":\"object\",\"name\":\"PanTool\",\"id\":\"p3065\"},{\"type\":\"object\",\"name\":\"WheelZoomTool\",\"id\":\"p3066\"},{\"type\":\"object\",\"name\":\"BoxZoomTool\",\"id\":\"p3067\",\"attributes\":{\"overlay\":{\"type\":\"object\",\"name\":\"BoxAnnotation\",\"id\":\"p3068\",\"attributes\":{\"syncable\":false,\"level\":\"overlay\",\"visible\":false,\"left_units\":\"canvas\",\"right_units\":\"canvas\",\"bottom_units\":\"canvas\",\"top_units\":\"canvas\",\"line_color\":\"black\",\"line_alpha\":1.0,\"line_width\":2,\"line_dash\":[4,4],\"fill_color\":\"lightgrey\",\"fill_alpha\":0.5}}}},{\"type\":\"object\",\"name\":\"SaveTool\",\"id\":\"p3069\"},{\"type\":\"object\",\"name\":\"ResetTool\",\"id\":\"p3070\"},{\"type\":\"object\",\"name\":\"HelpTool\",\"id\":\"p3071\"}]}},\"left\":[{\"type\":\"object\",\"name\":\"LinearAxis\",\"id\":\"p3058\",\"attributes\":{\"ticker\":{\"type\":\"object\",\"name\":\"BasicTicker\",\"id\":\"p3059\",\"attributes\":{\"mantissas\":[1,2,5]}},\"formatter\":{\"type\":\"object\",\"name\":\"BasicTickFormatter\",\"id\":\"p3060\"},\"axis_label\":\"y\",\"major_label_policy\":{\"type\":\"object\",\"name\":\"AllLabels\",\"id\":\"p3061\"}}}],\"right\":[{\"type\":\"object\",\"name\":\"ColorBar\",\"id\":\"p3093\",\"attributes\":{\"location\":[0,0],\"major_label_policy\":{\"type\":\"object\",\"name\":\"NoOverlap\",\"id\":\"p3094\"},\"color_mapper\":{\"id\":\"p3080\"}}}],\"below\":[{\"type\":\"object\",\"name\":\"LinearAxis\",\"id\":\"p3051\",\"attributes\":{\"ticker\":{\"type\":\"object\",\"name\":\"BasicTicker\",\"id\":\"p3052\",\"attributes\":{\"mantissas\":[1,2,5]}},\"formatter\":{\"type\":\"object\",\"name\":\"BasicTickFormatter\",\"id\":\"p3053\"},\"axis_label\":\"x\",\"major_label_policy\":{\"type\":\"object\",\"name\":\"AllLabels\",\"id\":\"p3054\"}}}],\"center\":[{\"type\":\"object\",\"name\":\"Grid\",\"id\":\"p3057\",\"attributes\":{\"axis\":{\"id\":\"p3051\"}}},{\"type\":\"object\",\"name\":\"Grid\",\"id\":\"p3064\",\"attributes\":{\"dimension\":1,\"axis\":{\"id\":\"p3058\"}}}]}}]}};\n",
       "  const render_items = [{\"docid\":\"07d0a0b8-2455-4a83-88c4-a6d31c1d3d8c\",\"roots\":{\"p3033\":\"4c08a294-d288-43a0-86ef-4774667e23ee\"},\"root_ids\":[\"p3033\"]}];\n",
       "  root.Bokeh.embed.embed_items_notebook(docs_json, render_items);\n",
       "  }\n",
       "  if (root.Bokeh !== undefined) {\n",
       "    embed_document(root);\n",
       "  } else {\n",
       "    let attempts = 0;\n",
       "    const timer = setInterval(function(root) {\n",
       "      if (root.Bokeh !== undefined) {\n",
       "        clearInterval(timer);\n",
       "        embed_document(root);\n",
       "      } else {\n",
       "        attempts++;\n",
       "        if (attempts > 100) {\n",
       "          clearInterval(timer);\n",
       "          console.log(\"Bokeh: ERROR: Unable to run BokehJS code because BokehJS library is missing\");\n",
       "        }\n",
       "      }\n",
       "    }, 10, root)\n",
       "  }\n",
       "})(window);"
      ],
      "application/vnd.bokehjs_exec.v0+json": ""
     },
     "metadata": {
      "application/vnd.bokehjs_exec.v0+json": {
       "id": "p3033"
      }
     },
     "output_type": "display_data"
    }
   ],
   "source": [
    "# code->\n",
    "data_heatmap = np.random.rand(10, 10)\n",
    "x = np.linspace(0, 1, 10)\n",
    "y = np.linspace(0, 1, 10)\n",
    "xx, yy = np.meshgrid(x, y)\n",
    "\n",
    "p = figure(title=\"Heatmap\", x_axis_label='x', y_axis_label='y')\n",
    "\n",
    "color_mapper = LinearColorMapper(palette=\"Viridis256\", low=np.min(data_heatmap), high=np.max(data_heatmap))\n",
    "\n",
    "p.image(image=[data_heatmap], x=0, y=0, dw=1, dh=1, color_mapper=color_mapper)\n",
    "\n",
    "color_bar = ColorBar(color_mapper=color_mapper, location=(0, 0))\n",
    "\n",
    "p.add_layout(color_bar, 'right')\n",
    "\n",
    "\n",
    "show(p)\n"
   ]
  },
  {
   "cell_type": "code",
   "execution_count": null,
   "id": "eac30dfe-305e-40d8-95cf-439070029d29",
   "metadata": {},
   "outputs": [],
   "source": []
  }
 ],
 "metadata": {
  "kernelspec": {
   "display_name": "Python 3 (ipykernel)",
   "language": "python",
   "name": "python3"
  },
  "language_info": {
   "codemirror_mode": {
    "name": "ipython",
    "version": 3
   },
   "file_extension": ".py",
   "mimetype": "text/x-python",
   "name": "python",
   "nbconvert_exporter": "python",
   "pygments_lexer": "ipython3",
   "version": "3.10.8"
  }
 },
 "nbformat": 4,
 "nbformat_minor": 5
}
