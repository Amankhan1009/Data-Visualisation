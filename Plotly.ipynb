{
 "cells": [
  {
   "cell_type": "code",
   "execution_count": 1,
   "id": "5aba1e57-079b-49bf-aa01-df4c24f64e0d",
   "metadata": {},
   "outputs": [],
   "source": [
    "import matplotlib.pyplot as plt\n",
    "import pandas as pd\n",
    "import numpy as np\n",
    "import seaborn as sns\n",
    "import warnings\n",
    "warnings.filterwarnings('ignore')"
   ]
  },
  {
   "cell_type": "code",
   "execution_count": 2,
   "id": "1d06a620-570d-43f8-8c58-08c8ae4c504b",
   "metadata": {},
   "outputs": [
    {
     "name": "stdout",
     "output_type": "stream",
     "text": [
      "Requirement already satisfied: plotly in /opt/conda/lib/python3.10/site-packages (5.24.0)\n",
      "Requirement already satisfied: packaging in /opt/conda/lib/python3.10/site-packages (from plotly) (22.0)\n",
      "Requirement already satisfied: tenacity>=6.2.0 in /opt/conda/lib/python3.10/site-packages (from plotly) (9.0.0)\n",
      "Note: you may need to restart the kernel to use updated packages.\n"
     ]
    }
   ],
   "source": [
    "pip install plotly"
   ]
  },
  {
   "cell_type": "code",
   "execution_count": 3,
   "id": "2e906964-a034-4297-8b2a-280b7def3161",
   "metadata": {},
   "outputs": [],
   "source": [
    "import plotly.graph_objects as go\n",
    "import plotly.express as px"
   ]
  },
  {
   "cell_type": "code",
   "execution_count": 4,
   "id": "afb7e3b3-b382-43a8-9ebe-1cd8eaf1e3a7",
   "metadata": {},
   "outputs": [],
   "source": [
    "# Qn1: Using the given dataset, to generate a 3D scatter plot to visualize the distribution of data points in a threedimensional space.\n",
    "#     np.random.seed(30)\n",
    "# data = {\n",
    "#     'X': np.random.uniform(-10, 10, 300),\n",
    "#     'Y': np.random.uniform(-10, 10, 300),\n",
    "#     'Z': np.random.uniform(-10, 10, 300)\n",
    "# }\n",
    "# df = pd.DataFrame(data)"
   ]
  },
  {
   "cell_type": "code",
   "execution_count": 5,
   "id": "e47425a7-1a60-43c6-add2-81ce81cee8ed",
   "metadata": {},
   "outputs": [
    {
     "data": {
      "text/html": [
       "<div>\n",
       "<style scoped>\n",
       "    .dataframe tbody tr th:only-of-type {\n",
       "        vertical-align: middle;\n",
       "    }\n",
       "\n",
       "    .dataframe tbody tr th {\n",
       "        vertical-align: top;\n",
       "    }\n",
       "\n",
       "    .dataframe thead th {\n",
       "        text-align: right;\n",
       "    }\n",
       "</style>\n",
       "<table border=\"1\" class=\"dataframe\">\n",
       "  <thead>\n",
       "    <tr style=\"text-align: right;\">\n",
       "      <th></th>\n",
       "      <th>X</th>\n",
       "      <th>Y</th>\n",
       "      <th>Z</th>\n",
       "    </tr>\n",
       "  </thead>\n",
       "  <tbody>\n",
       "    <tr>\n",
       "      <th>0</th>\n",
       "      <td>2.882871</td>\n",
       "      <td>-7.376076</td>\n",
       "      <td>6.925787</td>\n",
       "    </tr>\n",
       "    <tr>\n",
       "      <th>1</th>\n",
       "      <td>-2.385030</td>\n",
       "      <td>-5.950714</td>\n",
       "      <td>-8.410773</td>\n",
       "    </tr>\n",
       "    <tr>\n",
       "      <th>2</th>\n",
       "      <td>3.260958</td>\n",
       "      <td>0.853469</td>\n",
       "      <td>-6.647725</td>\n",
       "    </tr>\n",
       "    <tr>\n",
       "      <th>3</th>\n",
       "      <td>-6.726985</td>\n",
       "      <td>-6.602615</td>\n",
       "      <td>-3.725201</td>\n",
       "    </tr>\n",
       "    <tr>\n",
       "      <th>4</th>\n",
       "      <td>9.252156</td>\n",
       "      <td>-4.791792</td>\n",
       "      <td>-0.580081</td>\n",
       "    </tr>\n",
       "    <tr>\n",
       "      <th>...</th>\n",
       "      <td>...</td>\n",
       "      <td>...</td>\n",
       "      <td>...</td>\n",
       "    </tr>\n",
       "    <tr>\n",
       "      <th>295</th>\n",
       "      <td>-0.369458</td>\n",
       "      <td>-6.543074</td>\n",
       "      <td>9.941758</td>\n",
       "    </tr>\n",
       "    <tr>\n",
       "      <th>296</th>\n",
       "      <td>-3.675668</td>\n",
       "      <td>-6.671420</td>\n",
       "      <td>-2.019459</td>\n",
       "    </tr>\n",
       "    <tr>\n",
       "      <th>297</th>\n",
       "      <td>-6.393715</td>\n",
       "      <td>-6.040683</td>\n",
       "      <td>1.774010</td>\n",
       "    </tr>\n",
       "    <tr>\n",
       "      <th>298</th>\n",
       "      <td>-0.007816</td>\n",
       "      <td>9.738364</td>\n",
       "      <td>-1.721501</td>\n",
       "    </tr>\n",
       "    <tr>\n",
       "      <th>299</th>\n",
       "      <td>-4.623348</td>\n",
       "      <td>7.697305</td>\n",
       "      <td>1.604021</td>\n",
       "    </tr>\n",
       "  </tbody>\n",
       "</table>\n",
       "<p>300 rows × 3 columns</p>\n",
       "</div>"
      ],
      "text/plain": [
       "            X         Y         Z\n",
       "0    2.882871 -7.376076  6.925787\n",
       "1   -2.385030 -5.950714 -8.410773\n",
       "2    3.260958  0.853469 -6.647725\n",
       "3   -6.726985 -6.602615 -3.725201\n",
       "4    9.252156 -4.791792 -0.580081\n",
       "..        ...       ...       ...\n",
       "295 -0.369458 -6.543074  9.941758\n",
       "296 -3.675668 -6.671420 -2.019459\n",
       "297 -6.393715 -6.040683  1.774010\n",
       "298 -0.007816  9.738364 -1.721501\n",
       "299 -4.623348  7.697305  1.604021\n",
       "\n",
       "[300 rows x 3 columns]"
      ]
     },
     "execution_count": 5,
     "metadata": {},
     "output_type": "execute_result"
    }
   ],
   "source": [
    "# code->\n",
    "np.random.seed(30)\n",
    "data = {\n",
    "    'X': np.random.uniform(-10, 10, 300),\n",
    "    'Y': np.random.uniform(-10, 10, 300),\n",
    "    'Z': np.random.uniform(-10, 10, 300)\n",
    "}\n",
    "df = pd.DataFrame(data)\n",
    "df"
   ]
  },
  {
   "cell_type": "code",
   "execution_count": null,
   "id": "e0d1126f-d16c-4f57-b945-0c21a6ed5263",
   "metadata": {},
   "outputs": [],
   "source": [
    "fig = go.Figure()\n",
    "fig.add_trace(go.Scatter3d(x=df['X'], y=df['Y'], z=df['Z']))\n",
    "fig.show()"
   ]
  },
  {
   "cell_type": "code",
   "execution_count": null,
   "id": "3abe2a75-9a3e-4b61-826c-33d57cbff6d6",
   "metadata": {},
   "outputs": [],
   "source": [
    "fig = px.scatter_3d(df, x='X', y='Y', z='Z')\n",
    "fig.show()"
   ]
  },
  {
   "cell_type": "code",
   "execution_count": null,
   "id": "9291d270-1837-48b5-a8da-def8b88648ea",
   "metadata": {},
   "outputs": [],
   "source": [
    "# Qn2:Using the Student Grades, create a violin plot to display the distribution of scores across different grade categories"
   ]
  },
  {
   "cell_type": "code",
   "execution_count": null,
   "id": "a4e0b53b-bad4-4bc3-b566-4a5dcd353982",
   "metadata": {},
   "outputs": [],
   "source": [
    "# code->np.random.seed(15)\n",
    "data = {\n",
    "    'Grade': np.random.choice(['A', 'B', 'C', 'D', 'F'], 200),\n",
    "    'Score': np.random.randint(50, 100, 200)\n",
    "}\n",
    "df = pd.DataFrame(data)\n",
    "df"
   ]
  },
  {
   "cell_type": "code",
   "execution_count": null,
   "id": "445cde4f-a4e1-4236-89aa-718ea03e1353",
   "metadata": {},
   "outputs": [],
   "source": [
    "fig = px.violin(df, x='Grade', y='Score', box=True, points='all', title='Violin Plot: Distribution of Scores Across Grades')\n",
    "fig.show()"
   ]
  },
  {
   "cell_type": "code",
   "execution_count": null,
   "id": "c275c763-0c00-432c-9adf-90b12bed6ca2",
   "metadata": {},
   "outputs": [],
   "source": [
    "# Using the sales data, generate a heatmap to visualize the variation in sales across\n",
    "# different months and days.\n",
    "\n",
    "np.random.seed(20)\n",
    "data = {\n",
    "    'Month': np.random.choice(['Jan', 'Feb', 'Mar', 'Apr', 'May'], 100),\n",
    "    'Day': np.random.choice(range(1, 31), 100),\n",
    "    'Sales': np.random.randint(1000, 5000, 100)\n",
    "}\n",
    "df = pd.DataFrame(data)\n",
    "df"
   ]
  },
  {
   "cell_type": "code",
   "execution_count": null,
   "id": "a0ad756c-f29e-405c-a71f-61327cb3c6c1",
   "metadata": {},
   "outputs": [],
   "source": [
    "pivot_table = df.pivot_table(values='Sales', index='Day', columns='Month')\n",
    "fig = go.Figure(data=go.Heatmap(\n",
    "    x=pivot_table.columns,\n",
    "    y=pivot_table.index,\n",
    "    z=pivot_table.values,\n",
    "    colorscale='Viridis'))\n",
    "fig.update_layout(\n",
    "    title='Sales Variation Across Months and Days',\n",
    "    xaxis_title='Month',\n",
    "    yaxis_title='Day'\n",
    ")\n",
    "fig.show()"
   ]
  },
  {
   "cell_type": "code",
   "execution_count": null,
   "id": "b4b703fd-946e-4ea1-a7ab-f8aa8d5860ac",
   "metadata": {},
   "outputs": [],
   "source": [
    "# Qn3: Using the sales data, generate a heatmap to visualize the variation in sales across different months and days."
   ]
  },
  {
   "cell_type": "code",
   "execution_count": null,
   "id": "cdae359a-c6f9-4355-892e-c7c563e13c4b",
   "metadata": {},
   "outputs": [],
   "source": [
    "# code->\n",
    "np.random.seed(20)\n",
    "data = {\n",
    "    'Month': np.random.choice(['Jan', 'Feb', 'Mar', 'Apr', 'May'], 100),\n",
    "    'Day': np.random.choice(range(1, 31), 100),\n",
    "    'Sales': np.random.randint(1000, 5000, 100)\n",
    "}\n",
    "df = pd.DataFrame(data)\n",
    "df"
   ]
  },
  {
   "cell_type": "code",
   "execution_count": null,
   "id": "c73dffda-e4bf-46a1-b664-977cc84d0bbe",
   "metadata": {},
   "outputs": [],
   "source": [
    "pivot_table = df.pivot_table(values='Sales', index='Day', columns='Month')\n",
    "fig = go.Figure(data=go.Heatmap(\n",
    "    x=pivot_table.columns,\n",
    "    y=pivot_table.index,\n",
    "    z=pivot_table.values,\n",
    "    colorscale='Viridis'))\n",
    "fig.update_layout(\n",
    "    title='Sales Variation Across Months and Days',\n",
    "    xaxis_title='Month',\n",
    "    yaxis_title='Day'\n",
    ")\n",
    "fig.show()"
   ]
  },
  {
   "cell_type": "code",
   "execution_count": null,
   "id": "028ec1c7-74eb-4f19-93ac-bde405afc928",
   "metadata": {},
   "outputs": [],
   "source": [
    "# Qn4. Using the given x and y data, generate a 3D surface plot to visualize the function "
   ]
  },
  {
   "cell_type": "code",
   "execution_count": null,
   "id": "406845c6-646f-4b0d-b8e7-b19fb1f5bc34",
   "metadata": {},
   "outputs": [],
   "source": [
    "x = np.linspace(-5, 5, 100)\n",
    "y = np.linspace(-5, 5, 100)\n",
    "x, y = np.meshgrid(x, y)\n",
    "z = np.sin(np.sqrt(x**2 + y**2))\n",
    "data = {\n",
    "    'X': x.flatten(),\n",
    "    'Y': y.flatten(),\n",
    "    'Z': z.flatten()\n",
    "}\n",
    "df = pd.DataFrame(data)\n",
    "df"
   ]
  },
  {
   "cell_type": "code",
   "execution_count": null,
   "id": "e781d72d-a436-4c8d-b2be-4d7c8e1b1045",
   "metadata": {},
   "outputs": [],
   "source": [
    "fig = go.Figure(data=[go.Surface(x=x, y=y, z=z)])\n",
    "fig.update_layout(\n",
    "    title='3D Surface Plot',\n",
    "    scene=dict(\n",
    "        xaxis_title='X Axis',\n",
    "        yaxis_title='Y Axis',\n",
    "        zaxis_title='Z Axis'\n",
    "    ),\n",
    "    width=700,\n",
    "    margin=dict(r=20, b=10, l=10, t=10)\n",
    ")\n",
    "\n",
    "fig.show()"
   ]
  },
  {
   "cell_type": "code",
   "execution_count": null,
   "id": "f17c736c-4d71-41a3-8f1f-03bcaecc9aca",
   "metadata": {},
   "outputs": [],
   "source": [
    "# Qn5:Using the given dataset, create a bubble chart to represent each country's population (y-axis), GDP (xaxis), and bubble size proportional to the population."
   ]
  },
  {
   "cell_type": "code",
   "execution_count": null,
   "id": "d0cc8d09-6e63-472b-a2b4-315e8e45b7f5",
   "metadata": {},
   "outputs": [],
   "source": [
    "# code->\n",
    "np.random.seed(25)\n",
    "data = {\n",
    "    'Country': ['USA', 'Canada', 'UK',\n",
    "'Germany', 'France'],\n",
    "    'Population':\n",
    "np.random.randint(100, 1000, 5),\n",
    "    'GDP': np.random.randint(500, 2000, 5)\n",
    "}\n",
    "df = pd.DataFrame(data)\n",
    "df"
   ]
  },
  {
   "cell_type": "code",
   "execution_count": null,
   "id": "6306a887-736e-4c90-af1f-7824ea3a022a",
   "metadata": {},
   "outputs": [],
   "source": [
    "fig = px.scatter(df, x='GDP', y='Population', size='Population', text='Country', hover_name='Country', size_max=60)\n",
    "fig.update_layout(\n",
    "    title='Bubble Chart: Population vs GDP',\n",
    "    xaxis_title='GDP',\n",
    "    yaxis_title='Population',\n",
    ")\n",
    "fig.show()"
   ]
  },
  {
   "cell_type": "code",
   "execution_count": null,
   "id": "acd71434-56b8-4417-b325-66d36202f72c",
   "metadata": {},
   "outputs": [],
   "source": []
  }
 ],
 "metadata": {
  "kernelspec": {
   "display_name": "Python 3 (ipykernel)",
   "language": "python",
   "name": "python3"
  },
  "language_info": {
   "codemirror_mode": {
    "name": "ipython",
    "version": 3
   },
   "file_extension": ".py",
   "mimetype": "text/x-python",
   "name": "python",
   "nbconvert_exporter": "python",
   "pygments_lexer": "ipython3",
   "version": "3.10.8"
  }
 },
 "nbformat": 4,
 "nbformat_minor": 5
}
